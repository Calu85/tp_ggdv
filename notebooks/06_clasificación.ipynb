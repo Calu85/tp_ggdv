{
 "cells": [
  {
   "cell_type": "markdown",
   "id": "acee2354",
   "metadata": {},
   "source": [
    "# 05 – Métodos de Clasificación\n",
    "\n",
    "Este notebook tiene como objetivo aplicar **métodos de clasificación supervisada** usando la **Capa Oro Horaria** de datos meteorológicos.\n",
    "\n",
    "**Tareas principales:**\n",
    "- Crear variable objetivo para **viento fuerte** (`FF > 20 km/h`)\n",
    "- Crear variable objetivo estimada para **lluvia** (`HUM > 95%` y `PNM < 1010 hPa`)\n",
    "- Entrenar modelos supervisados: **Árbol de Decisión** y **KNN**\n",
    "- Evaluar con matriz de confusión, F1-score y curvas ROC/AUC\n",
    "- Analizar resultados y obtener conclusiones"
   ]
  },
  {
   "cell_type": "code",
   "execution_count": 20,
   "id": "58c9570b",
   "metadata": {},
   "outputs": [
    {
     "name": "stdout",
     "output_type": "stream",
     "text": [
      "Importación de librerías completada.\n"
     ]
    }
   ],
   "source": [
    "# 1. Importar librerías\n",
    "from pathlib import Path\n",
    "import pandas as pd\n",
    "import numpy as np\n",
    "from sklearn.model_selection import train_test_split\n",
    "from sklearn.preprocessing import StandardScaler\n",
    "from sklearn.tree import DecisionTreeClassifier\n",
    "from sklearn.neighbors import KNeighborsClassifier\n",
    "from sklearn.metrics import confusion_matrix, classification_report, roc_curve, auc\n",
    "import matplotlib.pyplot as plt\n",
    "import seaborn as sns\n",
    "from sklearn.metrics import RocCurveDisplay\n",
    "from sklearn.metrics import accuracy_score, f1_score\n",
    "import warnings\n",
    "\n",
    "# Deshabilitar warnings futuros\n",
    "warnings.simplefilter(action='ignore', category=FutureWarning)\n",
    "\n",
    "pd.set_option('display.max_columns', None)\n",
    "\n",
    "print(\"Importación de librerías completada.\")"
   ]
  },
  {
   "cell_type": "code",
   "execution_count": 3,
   "id": "1e607b21",
   "metadata": {},
   "outputs": [
    {
     "name": "stdout",
     "output_type": "stream",
     "text": [
      "Dataset cargado, filas: 20145\n"
     ]
    },
    {
     "data": {
      "text/html": [
       "<div>\n",
       "<style scoped>\n",
       "    .dataframe tbody tr th:only-of-type {\n",
       "        vertical-align: middle;\n",
       "    }\n",
       "\n",
       "    .dataframe tbody tr th {\n",
       "        vertical-align: top;\n",
       "    }\n",
       "\n",
       "    .dataframe thead th {\n",
       "        text-align: right;\n",
       "    }\n",
       "</style>\n",
       "<table border=\"1\" class=\"dataframe\">\n",
       "  <thead>\n",
       "    <tr style=\"text-align: right;\">\n",
       "      <th></th>\n",
       "      <th>NOMBRE</th>\n",
       "      <th>FECHA_HORA</th>\n",
       "      <th>FECHA</th>\n",
       "      <th>HORA</th>\n",
       "      <th>TEMP</th>\n",
       "      <th>HUM</th>\n",
       "      <th>PNM</th>\n",
       "      <th>DD</th>\n",
       "      <th>FF</th>\n",
       "      <th>estacion_archivo</th>\n",
       "      <th>DELTA_TEMP</th>\n",
       "      <th>DELTA_HUM</th>\n",
       "      <th>DELTA_PNM</th>\n",
       "    </tr>\n",
       "  </thead>\n",
       "  <tbody>\n",
       "    <tr>\n",
       "      <th>0</th>\n",
       "      <td>IGUAZU AERO</td>\n",
       "      <td>2024-06-01 00:00:00</td>\n",
       "      <td>2024-06-01</td>\n",
       "      <td>0</td>\n",
       "      <td>13.8</td>\n",
       "      <td>91.0</td>\n",
       "      <td>1019.6</td>\n",
       "      <td>90.0</td>\n",
       "      <td>7.0</td>\n",
       "      <td>20240601.0</td>\n",
       "      <td>NaN</td>\n",
       "      <td>NaN</td>\n",
       "      <td>NaN</td>\n",
       "    </tr>\n",
       "    <tr>\n",
       "      <th>1</th>\n",
       "      <td>IGUAZU AERO</td>\n",
       "      <td>2024-06-01 01:00:00</td>\n",
       "      <td>2024-06-01</td>\n",
       "      <td>1</td>\n",
       "      <td>13.4</td>\n",
       "      <td>92.0</td>\n",
       "      <td>1019.5</td>\n",
       "      <td>90.0</td>\n",
       "      <td>7.0</td>\n",
       "      <td>20240601.0</td>\n",
       "      <td>-0.4</td>\n",
       "      <td>1.0</td>\n",
       "      <td>-0.1</td>\n",
       "    </tr>\n",
       "    <tr>\n",
       "      <th>2</th>\n",
       "      <td>IGUAZU AERO</td>\n",
       "      <td>2024-06-01 02:00:00</td>\n",
       "      <td>2024-06-01</td>\n",
       "      <td>2</td>\n",
       "      <td>13.0</td>\n",
       "      <td>94.0</td>\n",
       "      <td>1019.0</td>\n",
       "      <td>90.0</td>\n",
       "      <td>11.0</td>\n",
       "      <td>20240601.0</td>\n",
       "      <td>-0.4</td>\n",
       "      <td>2.0</td>\n",
       "      <td>-0.5</td>\n",
       "    </tr>\n",
       "    <tr>\n",
       "      <th>3</th>\n",
       "      <td>IGUAZU AERO</td>\n",
       "      <td>2024-06-01 03:00:00</td>\n",
       "      <td>2024-06-01</td>\n",
       "      <td>3</td>\n",
       "      <td>12.8</td>\n",
       "      <td>94.0</td>\n",
       "      <td>1018.3</td>\n",
       "      <td>90.0</td>\n",
       "      <td>9.0</td>\n",
       "      <td>20240601.0</td>\n",
       "      <td>-0.2</td>\n",
       "      <td>0.0</td>\n",
       "      <td>-0.7</td>\n",
       "    </tr>\n",
       "    <tr>\n",
       "      <th>4</th>\n",
       "      <td>IGUAZU AERO</td>\n",
       "      <td>2024-06-01 04:00:00</td>\n",
       "      <td>2024-06-01</td>\n",
       "      <td>4</td>\n",
       "      <td>12.4</td>\n",
       "      <td>94.0</td>\n",
       "      <td>1018.3</td>\n",
       "      <td>90.0</td>\n",
       "      <td>7.0</td>\n",
       "      <td>20240601.0</td>\n",
       "      <td>-0.4</td>\n",
       "      <td>0.0</td>\n",
       "      <td>0.0</td>\n",
       "    </tr>\n",
       "  </tbody>\n",
       "</table>\n",
       "</div>"
      ],
      "text/plain": [
       "        NOMBRE          FECHA_HORA       FECHA  HORA  TEMP   HUM     PNM  \\\n",
       "0  IGUAZU AERO 2024-06-01 00:00:00  2024-06-01     0  13.8  91.0  1019.6   \n",
       "1  IGUAZU AERO 2024-06-01 01:00:00  2024-06-01     1  13.4  92.0  1019.5   \n",
       "2  IGUAZU AERO 2024-06-01 02:00:00  2024-06-01     2  13.0  94.0  1019.0   \n",
       "3  IGUAZU AERO 2024-06-01 03:00:00  2024-06-01     3  12.8  94.0  1018.3   \n",
       "4  IGUAZU AERO 2024-06-01 04:00:00  2024-06-01     4  12.4  94.0  1018.3   \n",
       "\n",
       "     DD    FF  estacion_archivo  DELTA_TEMP  DELTA_HUM  DELTA_PNM  \n",
       "0  90.0   7.0        20240601.0         NaN        NaN        NaN  \n",
       "1  90.0   7.0        20240601.0        -0.4        1.0       -0.1  \n",
       "2  90.0  11.0        20240601.0        -0.4        2.0       -0.5  \n",
       "3  90.0   9.0        20240601.0        -0.2        0.0       -0.7  \n",
       "4  90.0   7.0        20240601.0        -0.4        0.0        0.0  "
      ]
     },
     "execution_count": 3,
     "metadata": {},
     "output_type": "execute_result"
    }
   ],
   "source": [
    "# 2. Cargar el dataset horario de Capa Oro\n",
    "archivo_oro_horario = \"../data/oro/misiones_oro_horario.csv\"\n",
    "\n",
    "df = pd.read_csv(archivo_oro_horario, parse_dates=['FECHA_HORA'])\n",
    "print(\"Dataset cargado, filas:\", len(df))\n",
    "df.head()"
   ]
  },
  {
   "cell_type": "code",
   "execution_count": 4,
   "id": "5415800e",
   "metadata": {},
   "outputs": [
    {
     "name": "stdout",
     "output_type": "stream",
     "text": [
      "Eventos de viento fuerte: 547\n",
      "Eventos de lluvia estimada: 441\n"
     ]
    },
    {
     "data": {
      "text/html": [
       "<div>\n",
       "<style scoped>\n",
       "    .dataframe tbody tr th:only-of-type {\n",
       "        vertical-align: middle;\n",
       "    }\n",
       "\n",
       "    .dataframe tbody tr th {\n",
       "        vertical-align: top;\n",
       "    }\n",
       "\n",
       "    .dataframe thead th {\n",
       "        text-align: right;\n",
       "    }\n",
       "</style>\n",
       "<table border=\"1\" class=\"dataframe\">\n",
       "  <thead>\n",
       "    <tr style=\"text-align: right;\">\n",
       "      <th></th>\n",
       "      <th>FECHA_HORA</th>\n",
       "      <th>FF</th>\n",
       "      <th>HUM</th>\n",
       "      <th>PNM</th>\n",
       "      <th>EVENTO_VIENTO_FUERTE</th>\n",
       "      <th>EVENTO_LLUVIA</th>\n",
       "    </tr>\n",
       "  </thead>\n",
       "  <tbody>\n",
       "    <tr>\n",
       "      <th>0</th>\n",
       "      <td>2024-06-01 00:00:00</td>\n",
       "      <td>7.0</td>\n",
       "      <td>91.0</td>\n",
       "      <td>1019.6</td>\n",
       "      <td>0</td>\n",
       "      <td>0</td>\n",
       "    </tr>\n",
       "    <tr>\n",
       "      <th>1</th>\n",
       "      <td>2024-06-01 01:00:00</td>\n",
       "      <td>7.0</td>\n",
       "      <td>92.0</td>\n",
       "      <td>1019.5</td>\n",
       "      <td>0</td>\n",
       "      <td>0</td>\n",
       "    </tr>\n",
       "    <tr>\n",
       "      <th>2</th>\n",
       "      <td>2024-06-01 02:00:00</td>\n",
       "      <td>11.0</td>\n",
       "      <td>94.0</td>\n",
       "      <td>1019.0</td>\n",
       "      <td>0</td>\n",
       "      <td>0</td>\n",
       "    </tr>\n",
       "    <tr>\n",
       "      <th>3</th>\n",
       "      <td>2024-06-01 03:00:00</td>\n",
       "      <td>9.0</td>\n",
       "      <td>94.0</td>\n",
       "      <td>1018.3</td>\n",
       "      <td>0</td>\n",
       "      <td>0</td>\n",
       "    </tr>\n",
       "    <tr>\n",
       "      <th>4</th>\n",
       "      <td>2024-06-01 04:00:00</td>\n",
       "      <td>7.0</td>\n",
       "      <td>94.0</td>\n",
       "      <td>1018.3</td>\n",
       "      <td>0</td>\n",
       "      <td>0</td>\n",
       "    </tr>\n",
       "    <tr>\n",
       "      <th>5</th>\n",
       "      <td>2024-06-01 05:00:00</td>\n",
       "      <td>4.0</td>\n",
       "      <td>94.0</td>\n",
       "      <td>1018.7</td>\n",
       "      <td>0</td>\n",
       "      <td>0</td>\n",
       "    </tr>\n",
       "    <tr>\n",
       "      <th>6</th>\n",
       "      <td>2024-06-01 06:00:00</td>\n",
       "      <td>4.0</td>\n",
       "      <td>95.0</td>\n",
       "      <td>1019.1</td>\n",
       "      <td>0</td>\n",
       "      <td>0</td>\n",
       "    </tr>\n",
       "    <tr>\n",
       "      <th>7</th>\n",
       "      <td>2024-06-01 07:00:00</td>\n",
       "      <td>6.0</td>\n",
       "      <td>94.0</td>\n",
       "      <td>1020.5</td>\n",
       "      <td>0</td>\n",
       "      <td>0</td>\n",
       "    </tr>\n",
       "    <tr>\n",
       "      <th>8</th>\n",
       "      <td>2024-06-01 08:00:00</td>\n",
       "      <td>4.0</td>\n",
       "      <td>91.0</td>\n",
       "      <td>1021.3</td>\n",
       "      <td>0</td>\n",
       "      <td>0</td>\n",
       "    </tr>\n",
       "    <tr>\n",
       "      <th>9</th>\n",
       "      <td>2024-06-01 09:00:00</td>\n",
       "      <td>17.0</td>\n",
       "      <td>86.0</td>\n",
       "      <td>1021.4</td>\n",
       "      <td>0</td>\n",
       "      <td>0</td>\n",
       "    </tr>\n",
       "  </tbody>\n",
       "</table>\n",
       "</div>"
      ],
      "text/plain": [
       "           FECHA_HORA    FF   HUM     PNM  EVENTO_VIENTO_FUERTE  EVENTO_LLUVIA\n",
       "0 2024-06-01 00:00:00   7.0  91.0  1019.6                     0              0\n",
       "1 2024-06-01 01:00:00   7.0  92.0  1019.5                     0              0\n",
       "2 2024-06-01 02:00:00  11.0  94.0  1019.0                     0              0\n",
       "3 2024-06-01 03:00:00   9.0  94.0  1018.3                     0              0\n",
       "4 2024-06-01 04:00:00   7.0  94.0  1018.3                     0              0\n",
       "5 2024-06-01 05:00:00   4.0  94.0  1018.7                     0              0\n",
       "6 2024-06-01 06:00:00   4.0  95.0  1019.1                     0              0\n",
       "7 2024-06-01 07:00:00   6.0  94.0  1020.5                     0              0\n",
       "8 2024-06-01 08:00:00   4.0  91.0  1021.3                     0              0\n",
       "9 2024-06-01 09:00:00  17.0  86.0  1021.4                     0              0"
      ]
     },
     "execution_count": 4,
     "metadata": {},
     "output_type": "execute_result"
    }
   ],
   "source": [
    "# 3. Crear variables objetivo\n",
    "df['EVENTO_VIENTO_FUERTE'] = (df['FF'] > 20).astype(int)\n",
    "df['EVENTO_LLUVIA'] = ((df['HUM'] > 95) & (df['PNM'] < 1010)).astype(int)\n",
    "\n",
    "print(\"Eventos de viento fuerte:\", df['EVENTO_VIENTO_FUERTE'].sum())\n",
    "print(\"Eventos de lluvia estimada:\", df['EVENTO_LLUVIA'].sum())\n",
    "df[['FECHA_HORA', 'FF', 'HUM', 'PNM', 'EVENTO_VIENTO_FUERTE', 'EVENTO_LLUVIA']].head(10)"
   ]
  },
  {
   "cell_type": "code",
   "execution_count": 6,
   "id": "c122ca16",
   "metadata": {},
   "outputs": [
    {
     "name": "stdout",
     "output_type": "stream",
     "text": [
      "División en traint/test realizada correctamente.\n",
      "Escalado para KNN realizado correctamente.\n"
     ]
    }
   ],
   "source": [
    "# 4. Selección de variables predictoras\n",
    "X = df[['TEMP', 'HUM', 'PNM', 'FF', 'DD']]\n",
    "y_viento = df['EVENTO_VIENTO_FUERTE']\n",
    "y_lluvia = df['EVENTO_LLUVIA']\n",
    "\n",
    "# Dividir en train/test\n",
    "X_train, X_test, yv_train, yv_test = train_test_split(X, y_viento, test_size=0.3, random_state=42, stratify=y_viento)\n",
    "_, _, yl_train, yl_test = train_test_split(X, y_lluvia, test_size=0.3, random_state=42, stratify=y_lluvia)\n",
    "\n",
    "print(\"División en traint/test realizada correctamente.\")\n",
    "\n",
    "# Escalado para KNN\n",
    "scaler = StandardScaler()\n",
    "X_train_scaled = scaler.fit_transform(X_train)\n",
    "X_test_scaled = scaler.transform(X_test)\n",
    "\n",
    "print(\"Escalado para KNN realizado correctamente.\")\n"
   ]
  },
  {
   "cell_type": "markdown",
   "id": "28045164",
   "metadata": {},
   "source": [
    "## 5. Entrenamiento y evaluación – Árbol de Decisión"
   ]
  },
  {
   "cell_type": "code",
   "execution_count": 7,
   "id": "5982e04c",
   "metadata": {},
   "outputs": [
    {
     "name": "stdout",
     "output_type": "stream",
     "text": [
      "\n",
      "Matriz de confusión – Viento Fuerte\n",
      "[[5880    0]\n",
      " [   0  164]]\n",
      "              precision    recall  f1-score   support\n",
      "\n",
      "           0       1.00      1.00      1.00      5880\n",
      "           1       1.00      1.00      1.00       164\n",
      "\n",
      "    accuracy                           1.00      6044\n",
      "   macro avg       1.00      1.00      1.00      6044\n",
      "weighted avg       1.00      1.00      1.00      6044\n",
      "\n"
     ]
    }
   ],
   "source": [
    "# Árbol para viento fuerte\n",
    "tree_viento = DecisionTreeClassifier(max_depth=5, random_state=42)\n",
    "tree_viento.fit(X_train, yv_train)\n",
    "\n",
    "# Predicciones\n",
    "yv_pred = tree_viento.predict(X_test)\n",
    "print(\"\\nMatriz de confusión – Viento Fuerte\")\n",
    "print(confusion_matrix(yv_test, yv_pred))\n",
    "print(classification_report(yv_test, yv_pred))"
   ]
  },
  {
   "cell_type": "code",
   "execution_count": 8,
   "id": "c0283bfe",
   "metadata": {},
   "outputs": [
    {
     "name": "stdout",
     "output_type": "stream",
     "text": [
      "\n",
      "Matriz de confusión – Lluvia Estimada\n",
      "[[5909    3]\n",
      " [ 132    0]]\n",
      "              precision    recall  f1-score   support\n",
      "\n",
      "           0       0.98      1.00      0.99      5912\n",
      "           1       0.00      0.00      0.00       132\n",
      "\n",
      "    accuracy                           0.98      6044\n",
      "   macro avg       0.49      0.50      0.49      6044\n",
      "weighted avg       0.96      0.98      0.97      6044\n",
      "\n"
     ]
    }
   ],
   "source": [
    "# Árbol para lluvia\n",
    "tree_lluvia = DecisionTreeClassifier(max_depth=5, random_state=42)\n",
    "tree_lluvia.fit(X_train, yl_train)\n",
    "\n",
    "yl_pred = tree_lluvia.predict(X_test)\n",
    "print(\"\\nMatriz de confusión – Lluvia Estimada\")\n",
    "print(confusion_matrix(yl_test, yl_pred))\n",
    "print(classification_report(yl_test, yl_pred))"
   ]
  },
  {
   "cell_type": "markdown",
   "id": "00f7774c",
   "metadata": {},
   "source": [
    "## 6. Entrenamiento y evaluación – KNN"
   ]
  },
  {
   "cell_type": "code",
   "execution_count": 9,
   "id": "13f8d127",
   "metadata": {},
   "outputs": [
    {
     "name": "stdout",
     "output_type": "stream",
     "text": [
      "\n",
      "Matriz de confusión – KNN Viento Fuerte\n",
      "[[5880    0]\n",
      " [  24  140]]\n",
      "              precision    recall  f1-score   support\n",
      "\n",
      "           0       1.00      1.00      1.00      5880\n",
      "           1       1.00      0.85      0.92       164\n",
      "\n",
      "    accuracy                           1.00      6044\n",
      "   macro avg       1.00      0.93      0.96      6044\n",
      "weighted avg       1.00      1.00      1.00      6044\n",
      "\n"
     ]
    }
   ],
   "source": [
    "knn_viento = KNeighborsClassifier(n_neighbors=5)\n",
    "knn_viento.fit(X_train_scaled, yv_train)\n",
    "\n",
    "yv_pred_knn = knn_viento.predict(X_test_scaled)\n",
    "print(\"\\nMatriz de confusión – KNN Viento Fuerte\")\n",
    "print(confusion_matrix(yv_test, yv_pred_knn))\n",
    "print(classification_report(yv_test, yv_pred_knn))"
   ]
  },
  {
   "cell_type": "code",
   "execution_count": 10,
   "id": "ff4d5748",
   "metadata": {},
   "outputs": [
    {
     "name": "stdout",
     "output_type": "stream",
     "text": [
      "\n",
      "Matriz de confusión – KNN Lluvia Estimada\n",
      "[[5910    2]\n",
      " [ 132    0]]\n",
      "              precision    recall  f1-score   support\n",
      "\n",
      "           0       0.98      1.00      0.99      5912\n",
      "           1       0.00      0.00      0.00       132\n",
      "\n",
      "    accuracy                           0.98      6044\n",
      "   macro avg       0.49      0.50      0.49      6044\n",
      "weighted avg       0.96      0.98      0.97      6044\n",
      "\n"
     ]
    }
   ],
   "source": [
    "knn_lluvia = KNeighborsClassifier(n_neighbors=5)\n",
    "knn_lluvia.fit(X_train_scaled, yl_train)\n",
    "\n",
    "yl_pred_knn = knn_lluvia.predict(X_test_scaled)\n",
    "print(\"\\nMatriz de confusión – KNN Lluvia Estimada\")\n",
    "print(confusion_matrix(yl_test, yl_pred_knn))\n",
    "print(classification_report(yl_test, yl_pred_knn))"
   ]
  },
  {
   "cell_type": "markdown",
   "id": "72ad6a8f",
   "metadata": {},
   "source": [
    "## 7. Curvas ROC / AUC para Árbol de Decisión\n",
    "Esto nos permitirá evaluar la capacidad de discriminación de los modelos."
   ]
  },
  {
   "cell_type": "code",
   "execution_count": 12,
   "id": "9cb1cb14",
   "metadata": {},
   "outputs": [
    {
     "data": {
      "image/png": "[encoded data removed]",
      "text/plain": [
       "<Figure size 1200x500 with 2 Axes>"
      ]
     },
     "metadata": {},
     "output_type": "display_data"
    }
   ],
   "source": [
    "fig, axes = plt.subplots(1, 2, figsize=(12,5))\n",
    "\n",
    "# ROC para viento fuerte\n",
    "RocCurveDisplay.from_estimator(tree_viento, X_test, yv_test, ax=axes[0])\n",
    "axes[0].set_title('ROC – Viento Fuerte')\n",
    "\n",
    "# ROC para lluvia estimada\n",
    "RocCurveDisplay.from_estimator(tree_lluvia, X_test, yl_test, ax=axes[1])\n",
    "axes[1].set_title('ROC – Lluvia Estimada')\n",
    "\n",
    "plt.tight_layout()\n",
    "plt.show()"
   ]
  },
  {
   "cell_type": "markdown",
   "id": "0218ae70-2c74-4764-90c9-58a6450a95bf",
   "metadata": {},
   "source": [
    "# 8. Interpretación: Importancia de Variables en Árbol de Decisión"
   ]
  },
  {
   "cell_type": "code",
   "execution_count": 17,
   "id": "281acf3b-f531-4e44-b889-c8c3e9da8c95",
   "metadata": {},
   "outputs": [
    {
     "data": {
      "image/png": "[encoded data removed]",
      "text/plain": [
       "<Figure size 800x400 with 1 Axes>"
      ]
     },
     "metadata": {},
     "output_type": "display_data"
    },
    {
     "name": "stdout",
     "output_type": "stream",
     "text": [
      "\n",
      "🔹 Importancia de variables (viento fuerte):\n",
      "TEMP: 0.000\n",
      "HUM: 0.000\n",
      "PNM: 0.000\n",
      "FF: 1.000\n",
      "DD: 0.000\n"
     ]
    },
    {
     "data": {
      "image/png": "[encoded data removed]",
      "text/plain": [
       "<Figure size 800x400 with 1 Axes>"
      ]
     },
     "metadata": {},
     "output_type": "display_data"
    },
    {
     "name": "stdout",
     "output_type": "stream",
     "text": [
      "\n",
      "🔹 Importancia de variables (lluvia estimada):\n",
      "TEMP: 0.183\n",
      "HUM: 0.171\n",
      "PNM: 0.567\n",
      "FF: 0.047\n",
      "DD: 0.032\n"
     ]
    }
   ],
   "source": [
    "# Importancia de variables para viento fuerte\n",
    "importancias_viento = tree_viento.feature_importances_\n",
    "variables = X.columns\n",
    "\n",
    "plt.figure(figsize=(8,4))\n",
    "sns.barplot(x=importancias_viento, y=variables, palette=\"viridis\")\n",
    "plt.title(\"Importancia de variables – Viento Fuerte (Árbol de Decisión)\")\n",
    "plt.xlabel(\"Importancia\")\n",
    "plt.ylabel(\"Variable\")\n",
    "plt.show()\n",
    "\n",
    "# Imprimir importancia en tabla\n",
    "print(\"\\n🔹 Importancia de variables (viento fuerte):\")\n",
    "for var, imp in zip(variables, importancias_viento):\n",
    "    print(f\"{var}: {imp:.3f}\")\n",
    "\n",
    "# Importancia de variables para lluvia estimada\n",
    "importancias_lluvia = tree_lluvia.feature_importances_\n",
    "\n",
    "plt.figure(figsize=(8,4))\n",
    "sns.barplot(x=importancias_lluvia, y=variables, palette=\"magma\")\n",
    "plt.title(\"Importancia de variables – Lluvia Estimada (Árbol de Decisión)\")\n",
    "plt.xlabel(\"Importancia\")\n",
    "plt.ylabel(\"Variable\")\n",
    "plt.show()\n",
    "\n",
    "print(\"\\n🔹 Importancia de variables (lluvia estimada):\")\n",
    "for var, imp in zip(variables, importancias_lluvia):\n",
    "    print(f\"{var}: {imp:.3f}\")"
   ]
  },
  {
   "cell_type": "code",
   "execution_count": 21,
   "id": "28fca028-4c2f-4781-825b-7792e08b7aa1",
   "metadata": {},
   "outputs": [
    {
     "name": "stdout",
     "output_type": "stream",
     "text": [
      "Predicciones exportadas a: ../data/oro/predicciones_test.csv\n",
      "Importancia de variables exportada a: ../data/oro/importancia_variables.csv\n",
      "Métricas exportadas a: ../data/oro/metricas_modelos.csv\n",
      "\n",
      "Resumen de métricas:\n",
      "                    Modelo  Accuracy  F1_Score\n",
      "0    Árbol - Viento Fuerte  1.000000  1.000000\n",
      "1      KNN - Viento Fuerte  0.996029  0.921053\n",
      "2  Árbol - Lluvia Estimada  0.977664  0.000000\n",
      "3    KNN - Lluvia Estimada  0.977829  0.000000\n"
     ]
    }
   ],
   "source": [
    "ORO_DIR = Path(\"../data/oro\")\n",
    "\n",
    "# Exportar predicciones sobre el conjunto de prueba\n",
    "predicciones = pd.DataFrame({\n",
    "    \"FECHA_HORA\": df.loc[X_test.index, \"FECHA_HORA\"],\n",
    "    \"ESTACION\": df.loc[X_test.index, \"NOMBRE\"],\n",
    "    \"Viento_Fuerte_Real\": yv_test.values,\n",
    "    \"Viento_Fuerte_Pred_Arbol\": yv_pred,\n",
    "    \"Viento_Fuerte_Pred_KNN\": yv_pred_knn,\n",
    "    \"Lluvia_Real\": yl_test.values,\n",
    "    \"Lluvia_Pred_Arbol\": yl_pred,\n",
    "    \"Lluvia_Pred_KNN\": yl_pred_knn\n",
    "})\n",
    "\n",
    "archivo_predicciones = ORO_DIR / \"predicciones_test.csv\"\n",
    "predicciones.to_csv(archivo_predicciones, index=False)\n",
    "print(f\"Predicciones exportadas a: {archivo_predicciones}\")\n",
    "\n",
    "# Exportar importancia de variables\n",
    "df_importancia = pd.DataFrame({\n",
    "    \"Variable\": variables,\n",
    "    \"Importancia_Viento\": importancias_viento,\n",
    "    \"Importancia_Lluvia\": importancias_lluvia\n",
    "})\n",
    "\n",
    "archivo_importancias = ORO_DIR / \"importancia_variables.csv\"\n",
    "df_importancia.to_csv(archivo_importancias, index=False)\n",
    "print(f\"Importancia de variables exportada a: {archivo_importancias}\")\n",
    "\n",
    "# Resumen de métricas\n",
    "metricas = pd.DataFrame([\n",
    "    [\"Árbol - Viento Fuerte\", accuracy_score(yv_test, yv_pred), f1_score(yv_test, yv_pred)],\n",
    "    [\"KNN - Viento Fuerte\", accuracy_score(yv_test, yv_pred_knn), f1_score(yv_test, yv_pred_knn)],\n",
    "    [\"Árbol - Lluvia Estimada\", accuracy_score(yl_test, yl_pred), f1_score(yl_test, yl_pred)],\n",
    "    [\"KNN - Lluvia Estimada\", accuracy_score(yl_test, yl_pred_knn), f1_score(yl_test, yl_pred_knn)]\n",
    "], columns=[\"Modelo\", \"Accuracy\", \"F1_Score\"])\n",
    "\n",
    "archivo_metricas = ORO_DIR / \"metricas_modelos.csv\"\n",
    "metricas.to_csv(archivo_metricas, index=False)\n",
    "print(f\"Métricas exportadas a: {archivo_metricas}\")\n",
    "\n",
    "print(\"\\nResumen de métricas:\")\n",
    "print(metricas)"
   ]
  },
  {
   "cell_type": "markdown",
   "id": "72407286",
   "metadata": {},
   "source": [
    "## 8. Conclusiones\n",
    "- Se entrenaron modelos supervisados para **viento fuerte** y **lluvia estimada**.\n",
    "- Se compararon **Árboles de Decisión** y **KNN**.\n",
    "- Se calcularon **matrices de confusión**, **F1-score** y **curvas ROC/AUC**.\n",
    "- Este análisis sirve como base para **la Capa Oro** y para aplicar **minería de datos y clasificación supervisada** sobre datos meteorológicos."
   ]
  }
 ],
 "metadata": {
  "kernelspec": {
   "display_name": "Python 3 (ipykernel)",
   "language": "python",
   "name": "python3"
  },
  "language_info": {
   "codemirror_mode": {
    "name": "ipython",
    "version": 3
   },
   "file_extension": ".py",
   "mimetype": "text/x-python",
   "name": "python",
   "nbconvert_exporter": "python",
   "pygments_lexer": "ipython3",
   "version": "3.10.18"
  }
 },
 "nbformat": 4,
 "nbformat_minor": 5
}
