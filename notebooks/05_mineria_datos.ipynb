{
 "cells": [
  {
   "cell_type": "markdown",
   "id": "042da0e6",
   "metadata": {},
   "source": [
    "# Minería de Datos sobre Capa Oro\n",
    "\n",
    "Este notebook desarrolla un análisis completo de **minería de datos** sobre información meteorológica de la provincia de Misiones.\n",
    "\n",
    "### Objetivos\n",
    "1. **Generar y explorar la variable `LLUEVE`** para identificar días lluviosos.\n",
    "2. **Descubrir patrones y relaciones ocultas** mediante visualización, combinaciones y clustering.\n",
    "3. **Cubrir las etapas de minería de datos** dentro del flujo **CRISP-DM**:\n",
    "   - Comprensión de los datos\n",
    "   - Preparación\n",
    "   - Minería / Modelado\n",
    "   - Evaluación\n",
    "\n",
    "El enfoque es **no supervisado**, buscando patrones sin usar etiquetas predefinidas."
   ]
  },
  {
   "cell_type": "markdown",
   "id": "ee3931b7-35c1-4c12-9193-7a13f226e03a",
   "metadata": {},
   "source": [
    "# Importar las librerías necesarias"
   ]
  },
  {
   "cell_type": "code",
   "execution_count": null,
   "id": "11864a90-88e1-4c82-b75b-3201cef1a569",
   "metadata": {},
   "outputs": [],
   "source": [
    "import pandas as pd\n",
    "import numpy as np\n",
    "from pathlib import Path\n",
    "import matplotlib.pyplot as plt\n",
    "import seaborn as sns\n",
    "\n",
    "from sklearn.cluster import KMeans\n",
    "from sklearn.decomposition import PCA\n",
    "from sklearn.ensemble import RandomForestClassifier\n",
    "from sklearn.manifold import TSNE\n",
    "from sklearn.metrics import confusion_matrix, classification_report, roc_curve, auc\n",
    "from sklearn.model_selection import train_test_split\n",
    "from sklearn.preprocessing import StandardScaler\n",
    "\n",
    "from mlxtend.frequent_patterns import apriori, association_rules\n",
    "import warnings\n",
    "\n",
    "# Deshabilitar warnings futuros\n",
    "warnings.simplefilter(action='ignore', category=FutureWarning)\n",
    "\n",
    "MINERIA_DIR = Path('../data/mineria')\n",
    "MINERIA_DIR.mkdir(parents=True, exist_ok=True)\n",
    "\n",
    "print(\"Importación de librerías completada.\")"
   ]
  },
  {
   "cell_type": "markdown",
   "id": "3071fc74-f44a-4277-946e-93dccf63d1f9",
   "metadata": {},
   "source": [
    "## Carga de datos\n",
    "\n",
    "Se cargan los datasets generados en la **Capa Oro**:\n",
    "- `dataset_oro_diario.csv` → Datos diarios por estación.\n",
    "- `dataset_oro_horario.csv` → Datos horarios por estación."
   ]
  },
  {
   "cell_type": "code",
   "execution_count": null,
   "id": "4f60bd94",
   "metadata": {},
   "outputs": [],
   "source": [
    "# Carga de datasets Oro\n",
    "file_diario = '../data/oro/dataset_oro_diario.csv'\n",
    "file_horario = '../data/oro/dataset_oro_horario.csv'\n",
    "\n",
    "df_diario = pd.read_csv(file_diario)\n",
    "df_horario = pd.read_csv(file_horario)\n",
    "\n",
    "print(\"Dimensiones datos diarios:\", df_diario.shape)\n",
    "print(\"Dimensiones datos horarios:\", df_horario.shape)\n",
    "\n",
    "df_diario.head()"
   ]
  },
  {
   "cell_type": "markdown",
   "id": "51bbe411",
   "metadata": {},
   "source": [
    "## Generación de la variable `LLUEVE`\n",
    "\n",
    "Como no contamos con precipitación directa, se define la lluvia mediante la regla heurística:\n",
    "\n",
    "- **1 (Llueve)** si `Humedad > 75%` y `Presión < 1010 hPa`  \n",
    "- **0 (No llueve)** en caso contrario\n",
    "\n",
    "Esto permite contar con una etiqueta binaria para minería de datos."
   ]
  },
  {
   "cell_type": "code",
   "execution_count": null,
   "id": "41aaf62c",
   "metadata": {},
   "outputs": [],
   "source": [
    "# Crear variables binarias de lluvia\n",
    "\n",
    "# Condición: humedad > 75% y presión < 1010 hPa\n",
    "humedad = 75\n",
    "presion = 1010\n",
    "\n",
    "df_diario['LLUEVE'] = ((df_diario['HUM_MEAN'] > humedad) & \n",
    "                       (df_diario['PNM_MEAN'] < presion)).astype(int)\n",
    "\n",
    "df_horario['LLUEVE'] = ((df_horario['HUM'] > humedad) & \n",
    "                        (df_horario['PNM'] < presion)).astype(int)\n",
    "\n",
    "print(\"Variables generadas\")\n",
    "print(\"\")\n",
    "print(\"Distribución LLUEVE (0=No,1=Sí):\")\n",
    "print(\"\")\n",
    "print(df_diario['LLUEVE'].value_counts())\n",
    "\n",
    "df_diario[['ESTACION','FECHA','HUM_MEAN','PNM_MEAN','LLUEVE']].head(10)"
   ]
  },
  {
   "cell_type": "markdown",
   "id": "45c7fd7e-21b8-4940-9f4a-9769459497b1",
   "metadata": {},
   "source": [
    "# Guardar el dataset con las variables generadas"
   ]
  },
  {
   "cell_type": "code",
   "execution_count": null,
   "id": "ab26a82e-8451-48cc-91af-12cf4afa1a42",
   "metadata": {},
   "outputs": [],
   "source": [
    "# Guardar los datasets con la nueva variable. Exportación a CSV\n",
    "df_diario.to_csv(MINERIA_DIR / 'dataset_mineria_diario.csv', index=False)\n",
    "df_horario.to_csv(MINERIA_DIR / 'dataset_mineria_horario.csv', index=False)\n",
    "\n",
    "print(\"Archivos generados con la variable LLUEVE.\")\n",
    "print(f\"Filas diarias: {len(df_diario)} | Filas horarias: {len(df_horario)}\")\n",
    "print(\"Muestra de datos con la variable LLUEVE (diario):\")\n",
    "print(df_diario[['ESTACION','FECHA','HUM_MEAN','PNM_MEAN','LLUEVE']].head())"
   ]
  },
  {
   "cell_type": "markdown",
   "id": "da437d9d-b5ff-4a5f-80c5-b2b396e3f144",
   "metadata": {},
   "source": [
    "## Exploración y visualización de la variable `LLUEVE`\n",
    "\n",
    "Se analiza la distribución de días con lluvia, por estación y de manera temporal.\n",
    "Además, se incluye un **heatmap de correlación** para detectar **relaciones ocultas** entre variables."
   ]
  },
  {
   "cell_type": "code",
   "execution_count": null,
   "id": "76707111-9daa-454e-8733-6ed4ad418a80",
   "metadata": {},
   "outputs": [],
   "source": [
    "# Conteo lluvia\n",
    "df_diario['LLUEVE'].value_counts().plot(kind='bar', color=['skyblue','blue'])\n",
    "plt.title(\"Distribución de días con lluvia\")\n",
    "plt.xlabel(\"LLUEVE (0=No, 1=Sí)\")\n",
    "plt.ylabel(\"Cantidad de días\")\n",
    "plt.show()\n",
    "\n",
    "# Lluvia por estación\n",
    "df_diario.groupby('ESTACION')['LLUEVE'].sum().sort_values(ascending=False).plot(kind='bar', figsize=(10,5), color='green')\n",
    "plt.title(\"Cantidad de días con lluvia por estación\")\n",
    "plt.xticks(rotation=45, ha='right')\n",
    "plt.show()"
   ]
  },
  {
   "cell_type": "markdown",
   "id": "1b11197b-ef0e-4df3-b2c1-d8d8dcfef18c",
   "metadata": {},
   "source": [
    "### Heatmap de correlación general"
   ]
  },
  {
   "cell_type": "code",
   "execution_count": null,
   "id": "11276d81-8a49-44f7-b6cf-26fec4aad1ff",
   "metadata": {},
   "outputs": [],
   "source": [
    "\n",
    "vars_corr = ['TEMP_MEAN','HUM_MEAN','PNM_MEAN','WIND_SPEED_MEAN','LLUEVE']\n",
    "\n",
    "plt.figure(figsize=(8,6))\n",
    "sns.heatmap(df_diario[vars_corr].corr(), annot=True, cmap='coolwarm', fmt=\".2f\")\n",
    "plt.title(\"Matriz de correlación - Todas las estaciones\")\n",
    "plt.show()\n",
    "\n"
   ]
  },
  {
   "cell_type": "markdown",
   "id": "f2072ee5-d3a8-4696-bb38-3f85516faffb",
   "metadata": {},
   "source": [
    "### Generar un heatmap por cada estación"
   ]
  },
  {
   "cell_type": "code",
   "execution_count": null,
   "id": "be8cc022-4079-47cc-909d-89dbbc6cee87",
   "metadata": {},
   "outputs": [],
   "source": [
    "for estacion in df_diario['ESTACION'].unique():\n",
    "    df_est = df_diario[df_diario['ESTACION'] == estacion]\n",
    "    \n",
    "    plt.figure(figsize=(8,6))\n",
    "    sns.heatmap(df_est[vars_corr].corr(), annot=True, cmap='coolwarm', fmt=\".2f\", vmin=-1, vmax=1)\n",
    "    plt.title(f\"Matriz de correlación - {estacion}\")\n",
    "    plt.show()\n"
   ]
  },
  {
   "cell_type": "markdown",
   "id": "c3964a27-1135-458b-84f2-ebf57e120e80",
   "metadata": {},
   "source": [
    "## Combinaciones de condiciones climáticas\n",
    "\n",
    "Debido a que la lluvia es muy poco frecuente, **Apriori** no genera reglas útiles.\n",
    "Se opta por un análisis de **combinaciones discretizadas** para estimar la probabilidad de lluvia por tipo de día.\n",
    "\n",
    "1. **Discretización**:\n",
    "   - `TEMP_MEAN` → Frío / Cálido\n",
    "   - `HUM_MEAN` → Baja / Alta\n",
    "   - `PNM_MEAN` → Baja / Alta\n",
    "2. **Agrupación** por combinación y cálculo de:\n",
    "   - Días totales\n",
    "   - Días con lluvia\n",
    "   - Porcentaje de lluvia\n"
   ]
  },
  {
   "cell_type": "code",
   "execution_count": null,
   "id": "472b707b-ecba-4671-88b2-21691888bf3d",
   "metadata": {},
   "outputs": [],
   "source": [
    "# Discretización en 2 categorías\n",
    "df_assoc = df_diario[['TEMP_MEAN','HUM_MEAN','PNM_MEAN','LLUEVE']].copy()\n",
    "df_assoc['TEMP_CAT'] = pd.cut(df_assoc['TEMP_MEAN'], bins=[-5,20,50], labels=['Frio','Calido'])\n",
    "df_assoc['HUM_CAT'] = pd.cut(df_assoc['HUM_MEAN'], bins=[0,85,100], labels=['Baja','Alta'])\n",
    "df_assoc['PNM_CAT'] = pd.cut(df_assoc['PNM_MEAN'], bins=[950,1010,1050], labels=['Baja','Alta'])\n",
    "\n",
    "# Agrupación\n",
    "df_grouped = df_assoc.groupby(['TEMP_CAT','HUM_CAT','PNM_CAT']).agg(\n",
    "    dias_total=('LLUEVE','count'),\n",
    "    dias_lluvia=('LLUEVE','sum')\n",
    ").reset_index()\n",
    "\n",
    "df_grouped['porcentaje_lluvia'] = (df_grouped['dias_lluvia'] / df_grouped['dias_total'] * 100).round(2)\n",
    "\n",
    "df_grouped.sort_values('porcentaje_lluvia', ascending=False)"
   ]
  },
  {
   "cell_type": "markdown",
   "id": "f0434c63-c3c5-4c57-84bc-45d1ed4bdab4",
   "metadata": {},
   "source": [
    "## Clustering de días meteorológicos\n",
    "\n",
    "Se aplica **K-Means** para agrupar días según sus condiciones meteorológicas:\n",
    "\n",
    "- Variables: `TEMP_MEAN`, `HUM_MEAN`, `PNM_MEAN`, `WIND_SPEED_MEAN`\n",
    "- Escalado previo para que todas tengan igual peso\n",
    "- **PCA** para visualizar los clusters en 2D\n",
    "\n",
    "Cada color representa un **tipo de día**:\n",
    "- Cálido-Seco\n",
    "- Frío-Húmedo\n",
    "- Intermedio"
   ]
  },
  {
   "cell_type": "code",
   "execution_count": null,
   "id": "98dc52b9-2617-4d1e-a1b3-d0e0ae0c8064",
   "metadata": {},
   "outputs": [],
   "source": [
    "# Variables numéricas\n",
    "X_clust = df_diario[['TEMP_MEAN','HUM_MEAN','PNM_MEAN','WIND_SPEED_MEAN']]\n",
    "\n",
    "# Escalado\n",
    "scaler = StandardScaler()\n",
    "X_scaled = scaler.fit_transform(X_clust)\n",
    "\n",
    "# K-Means\n",
    "kmeans = KMeans(n_clusters=3, random_state=42, n_init=10)\n",
    "df_diario['CLUSTER'] = kmeans.fit_predict(X_scaled)\n",
    "\n",
    "# PCA para visualización\n",
    "pca = PCA(n_components=2)\n",
    "X_pca = pca.fit_transform(X_scaled)\n",
    "\n",
    "plt.figure(figsize=(8,6))\n",
    "plt.scatter(X_pca[:,0], X_pca[:,1], c=df_diario['CLUSTER'], cmap='viridis')\n",
    "plt.title(\"Clusters de días meteorológicos (PCA 2D)\")\n",
    "plt.xlabel(\"Componente principal 1\")\n",
    "plt.ylabel(\"Componente principal 2\")\n",
    "plt.colorbar(label='Cluster')\n",
    "plt.show()\n",
    "\n",
    "# 🔹 Interpretación de componentes principales\n",
    "pca_df = pd.DataFrame(pca.components_, columns=X_clust.columns, index=['PC1','PC2'])\n",
    "print(\"Contribución de cada variable a los componentes principales:\")\n",
    "display(pca_df.T)\n",
    "\n",
    "# Probabilidad de lluvia por cluster\n",
    "df_diario.groupby('CLUSTER')['LLUEVE'].mean()"
   ]
  },
  {
   "cell_type": "markdown",
   "id": "c44080b8-dd63-4b42-aae9-19611a496b3f",
   "metadata": {},
   "source": [
    "### Interpretación del PCA con Clustering\n",
    "\n",
    "En el gráfico PCA 2D:\n",
    "\n",
    "- **Eje X (Componente Principal 1)**: \n",
    "  - Gradiente entre **días cálidos y secos** (derecha) y **días fríos y húmedos** (izquierda).  \n",
    "- **Eje Y (Componente Principal 2)**: \n",
    "  - Intensidad del **viento medio diario**.  \n",
    "  - Arriba → días ventosos | Abajo → días calmos.\n",
    "\n",
    "- **Colores de los puntos**: \n",
    "  - Cada color representa un **cluster identificado por K-Means**:  \n",
    "    1. **Cluster 0 (amarillo/verde)** → días cálidos y secos  \n",
    "    2. **Cluster 1 (violeta/azul)** → días fríos y húmedos  \n",
    "    3. **Cluster 2 (verde/azulado)** → días intermedios\n",
    "\n",
    "> Esta visualización permite entender **tipos de días** y su relación con la lluvia.\n"
   ]
  },
  {
   "cell_type": "markdown",
   "id": "d453651f-e5f4-4046-94a2-738680531de4",
   "metadata": {},
   "source": [
    "## Visualización con t-SNE\n",
    "\n",
    "El **t-SNE (t-Distributed Stochastic Neighbor Embedding)** es una técnica de **reducción de dimensionalidad no lineal** utilizada principalmente para **visualización**.\n",
    "\n",
    "- **Objetivo:** Representar datos de alta dimensión en 2D/3D preservando **vecindades locales**.\n",
    "- **Ventaja:** Permite descubrir patrones o agrupamientos que **PCA lineal** podría no reflejar.\n",
    "- **Limitación:** \n",
    "  - Los ejes no tienen interpretación física como PCA. \n",
    "  - Solo importa la **proximidad de puntos**: puntos cercanos → días meteorológicos similares."
   ]
  },
  {
   "cell_type": "code",
   "execution_count": null,
   "id": "374867ef-f552-450f-af97-c73b7a386102",
   "metadata": {},
   "outputs": [],
   "source": [
    "# t-SNE en 2D\n",
    "tsne = TSNE(n_components=2, random_state=42, perplexity=30, max_iter=1000)\n",
    "X_tsne = tsne.fit_transform(X_scaled)\n",
    "\n",
    "# Visualización de clusters en t-SNE\n",
    "plt.figure(figsize=(8,6))\n",
    "plt.scatter(X_tsne[:,0], X_tsne[:,1], c=df_diario['CLUSTER'], cmap='viridis')\n",
    "plt.title(\"Clusters de días meteorológicos (t-SNE 2D)\")\n",
    "plt.xlabel(\"t-SNE componente 1\")\n",
    "plt.ylabel(\"t-SNE componente 2\")\n",
    "plt.colorbar(label='Cluster')\n",
    "plt.show()"
   ]
  },
  {
   "cell_type": "markdown",
   "id": "960852d3-6742-465a-98aa-a82f979a4473",
   "metadata": {},
   "source": [
    "### Interpretación del gráfico t-SNE\n",
    "\n",
    "- Cada **punto** = un **día meteorológico**.\n",
    "- **Colores** = clusters asignados por K-Means (tipos de días).  \n",
    "- **Proximidad** = similitud de condiciones:  \n",
    "  - Puntos cercanos → días con condiciones similares  \n",
    "  - Puntos alejados → días con comportamientos distintos  \n",
    "- **Los ejes no representan variables meteorológicas directas**, solo una proyección que facilita la visualización de grupos."
   ]
  },
  {
   "cell_type": "markdown",
   "id": "1e96d94e-c02c-4655-bb6e-af01a8318f74",
   "metadata": {},
   "source": [
    "# Conclusión\n",
    "\n",
    "En esta etapa se trabajó sobre los datos horarios procesados del SMN, aplicando técnicas de **minería de datos y análisis exploratorio** para descubrir patrones relacionados con la ocurrencia de lluvia.  \n",
    "El objetivo principal fue **generar conocimiento a partir de los datos procesados**, preparando la información para etapas posteriores de clasificación y modelado predictivo.\n",
    "\n",
    "1. **Generación de `LLUEVE`:**  \n",
    "   - Se creó una etiqueta binaria que indica lluvia (1) o no lluvia (0), derivada de las condiciones meteorológicas.  \n",
    "   - Se confirmó un **dataset desbalanceado**, con pocas ocurrencias de la clase positiva.\n",
    "\n",
    "2. **Exploración y relaciones ocultas:**  \n",
    "   - Los **heatmaps de correlación** mostraron que la lluvia está fuertemente asociada a **humedad alta** y **presión baja**.  \n",
    "   - Al analizar por estación meteorológica, se observaron **patrones consistentes**.\n",
    "\n",
    "3. **Combinaciones de condiciones:**  \n",
    "   - Los días con **humedad alta y presión baja** alcanzan **máxima probabilidad de lluvia** en el histórico.  \n",
    "   - Los **días cálidos y húmedos** son los más propensos a eventos de lluvia.\n",
    "\n",
    "4. **Clustering y reducción de dimensionalidad:**  \n",
    "   - El algoritmo **K-Means** identificó **3 tipos de días**: cálidos-secos, fríos-húmedos e intermedios.  \n",
    "   - La **PCA 2D** permitió interpretar los ejes principales como:  \n",
    "     - **PC1** → Gradiente cálido vs. frío-húmedo  \n",
    "     - **PC2** → Intensidad del viento  \n",
    "   - La técnica **t-SNE** confirmó la **separación de clusters** y reveló vecindades locales entre días con características similares.\n",
    "\n",
    "Este análisis de **minería de datos** permitió comprender la estructura y los patrones del dataset, dejando la información **lista para la siguiente etapa de clasificación supervisada**, donde se evaluará la capacidad predictiva de distintos modelos sobre la variable `LLUEVE`."
   ]
  },
  {
   "cell_type": "code",
   "execution_count": null,
   "id": "e9515a89-0a5f-4f3f-a546-bc7fda054910",
   "metadata": {},
   "outputs": [],
   "source": []
  }
 ],
 "metadata": {
  "kernelspec": {
   "display_name": "Python 3 (ipykernel)",
   "language": "python",
   "name": "python3"
  },
  "language_info": {
   "codemirror_mode": {
    "name": "ipython",
    "version": 3
   },
   "file_extension": ".py",
   "mimetype": "text/x-python",
   "name": "python",
   "nbconvert_exporter": "python",
   "pygments_lexer": "ipython3",
   "version": "3.10.18"
  }
 },
 "nbformat": 4,
 "nbformat_minor": 5
}
